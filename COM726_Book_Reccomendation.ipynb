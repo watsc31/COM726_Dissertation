{
 "cells": [
  {
   "cell_type": "code",
   "execution_count": 1,
   "id": "184146fb",
   "metadata": {},
   "outputs": [],
   "source": [
    "import pandas as pd\n",
    "import numpy as np"
   ]
  },
  {
   "cell_type": "code",
   "execution_count": 3,
   "id": "a712cac9",
   "metadata": {},
   "outputs": [
    {
     "name": "stderr",
     "output_type": "stream",
     "text": [
      "C:\\Users\\chery\\AppData\\Local\\Temp\\ipykernel_8988\\3460514963.py:1: DtypeWarning: Columns (3) have mixed types. Specify dtype option on import or set low_memory=False.\n",
      "  books_data = pd.read_csv('Books.csv')\n"
     ]
    }
   ],
   "source": [
    "books_data = pd.read_csv('Books.csv')\n",
    "ratings_data = pd.read_csv('Ratings.csv')\n",
    "user_data = pd.read_csv('Users.csv')"
   ]
  },
  {
   "cell_type": "code",
   "execution_count": 4,
   "id": "d4290bdd",
   "metadata": {},
   "outputs": [
    {
     "data": {
      "text/html": [
       "<div>\n",
       "<style scoped>\n",
       "    .dataframe tbody tr th:only-of-type {\n",
       "        vertical-align: middle;\n",
       "    }\n",
       "\n",
       "    .dataframe tbody tr th {\n",
       "        vertical-align: top;\n",
       "    }\n",
       "\n",
       "    .dataframe thead th {\n",
       "        text-align: right;\n",
       "    }\n",
       "</style>\n",
       "<table border=\"1\" class=\"dataframe\">\n",
       "  <thead>\n",
       "    <tr style=\"text-align: right;\">\n",
       "      <th></th>\n",
       "      <th>ISBN</th>\n",
       "      <th>Book-Title</th>\n",
       "      <th>Book-Author</th>\n",
       "      <th>Year-Of-Publication</th>\n",
       "      <th>Publisher</th>\n",
       "      <th>Image-URL-S</th>\n",
       "      <th>Image-URL-M</th>\n",
       "      <th>Image-URL-L</th>\n",
       "    </tr>\n",
       "  </thead>\n",
       "  <tbody>\n",
       "    <tr>\n",
       "      <th>0</th>\n",
       "      <td>0195153448</td>\n",
       "      <td>Classical Mythology</td>\n",
       "      <td>Mark P. O. Morford</td>\n",
       "      <td>2002</td>\n",
       "      <td>Oxford University Press</td>\n",
       "      <td>http://images.amazon.com/images/P/0195153448.0...</td>\n",
       "      <td>http://images.amazon.com/images/P/0195153448.0...</td>\n",
       "      <td>http://images.amazon.com/images/P/0195153448.0...</td>\n",
       "    </tr>\n",
       "    <tr>\n",
       "      <th>1</th>\n",
       "      <td>0002005018</td>\n",
       "      <td>Clara Callan</td>\n",
       "      <td>Richard Bruce Wright</td>\n",
       "      <td>2001</td>\n",
       "      <td>HarperFlamingo Canada</td>\n",
       "      <td>http://images.amazon.com/images/P/0002005018.0...</td>\n",
       "      <td>http://images.amazon.com/images/P/0002005018.0...</td>\n",
       "      <td>http://images.amazon.com/images/P/0002005018.0...</td>\n",
       "    </tr>\n",
       "    <tr>\n",
       "      <th>2</th>\n",
       "      <td>0060973129</td>\n",
       "      <td>Decision in Normandy</td>\n",
       "      <td>Carlo D'Este</td>\n",
       "      <td>1991</td>\n",
       "      <td>HarperPerennial</td>\n",
       "      <td>http://images.amazon.com/images/P/0060973129.0...</td>\n",
       "      <td>http://images.amazon.com/images/P/0060973129.0...</td>\n",
       "      <td>http://images.amazon.com/images/P/0060973129.0...</td>\n",
       "    </tr>\n",
       "    <tr>\n",
       "      <th>3</th>\n",
       "      <td>0374157065</td>\n",
       "      <td>Flu: The Story of the Great Influenza Pandemic...</td>\n",
       "      <td>Gina Bari Kolata</td>\n",
       "      <td>1999</td>\n",
       "      <td>Farrar Straus Giroux</td>\n",
       "      <td>http://images.amazon.com/images/P/0374157065.0...</td>\n",
       "      <td>http://images.amazon.com/images/P/0374157065.0...</td>\n",
       "      <td>http://images.amazon.com/images/P/0374157065.0...</td>\n",
       "    </tr>\n",
       "    <tr>\n",
       "      <th>4</th>\n",
       "      <td>0393045218</td>\n",
       "      <td>The Mummies of Urumchi</td>\n",
       "      <td>E. J. W. Barber</td>\n",
       "      <td>1999</td>\n",
       "      <td>W. W. Norton &amp;amp; Company</td>\n",
       "      <td>http://images.amazon.com/images/P/0393045218.0...</td>\n",
       "      <td>http://images.amazon.com/images/P/0393045218.0...</td>\n",
       "      <td>http://images.amazon.com/images/P/0393045218.0...</td>\n",
       "    </tr>\n",
       "  </tbody>\n",
       "</table>\n",
       "</div>"
      ],
      "text/plain": [
       "         ISBN                                         Book-Title  \\\n",
       "0  0195153448                                Classical Mythology   \n",
       "1  0002005018                                       Clara Callan   \n",
       "2  0060973129                               Decision in Normandy   \n",
       "3  0374157065  Flu: The Story of the Great Influenza Pandemic...   \n",
       "4  0393045218                             The Mummies of Urumchi   \n",
       "\n",
       "            Book-Author Year-Of-Publication                   Publisher  \\\n",
       "0    Mark P. O. Morford                2002     Oxford University Press   \n",
       "1  Richard Bruce Wright                2001       HarperFlamingo Canada   \n",
       "2          Carlo D'Este                1991             HarperPerennial   \n",
       "3      Gina Bari Kolata                1999        Farrar Straus Giroux   \n",
       "4       E. J. W. Barber                1999  W. W. Norton &amp; Company   \n",
       "\n",
       "                                         Image-URL-S  \\\n",
       "0  http://images.amazon.com/images/P/0195153448.0...   \n",
       "1  http://images.amazon.com/images/P/0002005018.0...   \n",
       "2  http://images.amazon.com/images/P/0060973129.0...   \n",
       "3  http://images.amazon.com/images/P/0374157065.0...   \n",
       "4  http://images.amazon.com/images/P/0393045218.0...   \n",
       "\n",
       "                                         Image-URL-M  \\\n",
       "0  http://images.amazon.com/images/P/0195153448.0...   \n",
       "1  http://images.amazon.com/images/P/0002005018.0...   \n",
       "2  http://images.amazon.com/images/P/0060973129.0...   \n",
       "3  http://images.amazon.com/images/P/0374157065.0...   \n",
       "4  http://images.amazon.com/images/P/0393045218.0...   \n",
       "\n",
       "                                         Image-URL-L  \n",
       "0  http://images.amazon.com/images/P/0195153448.0...  \n",
       "1  http://images.amazon.com/images/P/0002005018.0...  \n",
       "2  http://images.amazon.com/images/P/0060973129.0...  \n",
       "3  http://images.amazon.com/images/P/0374157065.0...  \n",
       "4  http://images.amazon.com/images/P/0393045218.0...  "
      ]
     },
     "execution_count": 4,
     "metadata": {},
     "output_type": "execute_result"
    }
   ],
   "source": [
    "books_data.head()"
   ]
  },
  {
   "cell_type": "code",
   "execution_count": 5,
   "id": "89a4c6ce",
   "metadata": {},
   "outputs": [
    {
     "data": {
      "text/html": [
       "<div>\n",
       "<style scoped>\n",
       "    .dataframe tbody tr th:only-of-type {\n",
       "        vertical-align: middle;\n",
       "    }\n",
       "\n",
       "    .dataframe tbody tr th {\n",
       "        vertical-align: top;\n",
       "    }\n",
       "\n",
       "    .dataframe thead th {\n",
       "        text-align: right;\n",
       "    }\n",
       "</style>\n",
       "<table border=\"1\" class=\"dataframe\">\n",
       "  <thead>\n",
       "    <tr style=\"text-align: right;\">\n",
       "      <th></th>\n",
       "      <th>User-ID</th>\n",
       "      <th>ISBN</th>\n",
       "      <th>Book-Rating</th>\n",
       "    </tr>\n",
       "  </thead>\n",
       "  <tbody>\n",
       "    <tr>\n",
       "      <th>0</th>\n",
       "      <td>276725</td>\n",
       "      <td>034545104X</td>\n",
       "      <td>0</td>\n",
       "    </tr>\n",
       "    <tr>\n",
       "      <th>1</th>\n",
       "      <td>276726</td>\n",
       "      <td>0155061224</td>\n",
       "      <td>5</td>\n",
       "    </tr>\n",
       "    <tr>\n",
       "      <th>2</th>\n",
       "      <td>276727</td>\n",
       "      <td>0446520802</td>\n",
       "      <td>0</td>\n",
       "    </tr>\n",
       "    <tr>\n",
       "      <th>3</th>\n",
       "      <td>276729</td>\n",
       "      <td>052165615X</td>\n",
       "      <td>3</td>\n",
       "    </tr>\n",
       "    <tr>\n",
       "      <th>4</th>\n",
       "      <td>276729</td>\n",
       "      <td>0521795028</td>\n",
       "      <td>6</td>\n",
       "    </tr>\n",
       "  </tbody>\n",
       "</table>\n",
       "</div>"
      ],
      "text/plain": [
       "   User-ID        ISBN  Book-Rating\n",
       "0   276725  034545104X            0\n",
       "1   276726  0155061224            5\n",
       "2   276727  0446520802            0\n",
       "3   276729  052165615X            3\n",
       "4   276729  0521795028            6"
      ]
     },
     "execution_count": 5,
     "metadata": {},
     "output_type": "execute_result"
    }
   ],
   "source": [
    "ratings_data.head()"
   ]
  },
  {
   "cell_type": "code",
   "execution_count": 6,
   "id": "60f41b07",
   "metadata": {},
   "outputs": [
    {
     "data": {
      "text/html": [
       "<div>\n",
       "<style scoped>\n",
       "    .dataframe tbody tr th:only-of-type {\n",
       "        vertical-align: middle;\n",
       "    }\n",
       "\n",
       "    .dataframe tbody tr th {\n",
       "        vertical-align: top;\n",
       "    }\n",
       "\n",
       "    .dataframe thead th {\n",
       "        text-align: right;\n",
       "    }\n",
       "</style>\n",
       "<table border=\"1\" class=\"dataframe\">\n",
       "  <thead>\n",
       "    <tr style=\"text-align: right;\">\n",
       "      <th></th>\n",
       "      <th>User-ID</th>\n",
       "      <th>Location</th>\n",
       "      <th>Age</th>\n",
       "    </tr>\n",
       "  </thead>\n",
       "  <tbody>\n",
       "    <tr>\n",
       "      <th>0</th>\n",
       "      <td>1</td>\n",
       "      <td>nyc, new york, usa</td>\n",
       "      <td>NaN</td>\n",
       "    </tr>\n",
       "    <tr>\n",
       "      <th>1</th>\n",
       "      <td>2</td>\n",
       "      <td>stockton, california, usa</td>\n",
       "      <td>18.0</td>\n",
       "    </tr>\n",
       "    <tr>\n",
       "      <th>2</th>\n",
       "      <td>3</td>\n",
       "      <td>moscow, yukon territory, russia</td>\n",
       "      <td>NaN</td>\n",
       "    </tr>\n",
       "    <tr>\n",
       "      <th>3</th>\n",
       "      <td>4</td>\n",
       "      <td>porto, v.n.gaia, portugal</td>\n",
       "      <td>17.0</td>\n",
       "    </tr>\n",
       "    <tr>\n",
       "      <th>4</th>\n",
       "      <td>5</td>\n",
       "      <td>farnborough, hants, united kingdom</td>\n",
       "      <td>NaN</td>\n",
       "    </tr>\n",
       "  </tbody>\n",
       "</table>\n",
       "</div>"
      ],
      "text/plain": [
       "   User-ID                            Location   Age\n",
       "0        1                  nyc, new york, usa   NaN\n",
       "1        2           stockton, california, usa  18.0\n",
       "2        3     moscow, yukon territory, russia   NaN\n",
       "3        4           porto, v.n.gaia, portugal  17.0\n",
       "4        5  farnborough, hants, united kingdom   NaN"
      ]
     },
     "execution_count": 6,
     "metadata": {},
     "output_type": "execute_result"
    }
   ],
   "source": [
    "user_data.head()"
   ]
  },
  {
   "cell_type": "code",
   "execution_count": 8,
   "id": "546f987c",
   "metadata": {},
   "outputs": [
    {
     "name": "stdout",
     "output_type": "stream",
     "text": [
      "(271360, 8)\n",
      "(1149780, 3)\n",
      "(278858, 3)\n"
     ]
    }
   ],
   "source": [
    "print(books_data.shape)\n",
    "print(ratings_data.shape)\n",
    "print(user_data.shape)"
   ]
  },
  {
   "cell_type": "code",
   "execution_count": 9,
   "id": "2760c69e",
   "metadata": {},
   "outputs": [
    {
     "data": {
      "text/plain": [
       "ISBN                   0\n",
       "Book-Title             0\n",
       "Book-Author            2\n",
       "Year-Of-Publication    0\n",
       "Publisher              2\n",
       "Image-URL-S            0\n",
       "Image-URL-M            0\n",
       "Image-URL-L            3\n",
       "dtype: int64"
      ]
     },
     "execution_count": 9,
     "metadata": {},
     "output_type": "execute_result"
    }
   ],
   "source": [
    "books_data.isnull().sum()"
   ]
  },
  {
   "cell_type": "code",
   "execution_count": 10,
   "id": "9664d3a7",
   "metadata": {},
   "outputs": [
    {
     "data": {
      "text/plain": [
       "User-ID          0\n",
       "Location         0\n",
       "Age         110762\n",
       "dtype: int64"
      ]
     },
     "execution_count": 10,
     "metadata": {},
     "output_type": "execute_result"
    }
   ],
   "source": [
    "user_data.isnull().sum()"
   ]
  },
  {
   "cell_type": "code",
   "execution_count": 11,
   "id": "d8450688",
   "metadata": {},
   "outputs": [
    {
     "data": {
      "text/plain": [
       "User-ID        0\n",
       "ISBN           0\n",
       "Book-Rating    0\n",
       "dtype: int64"
      ]
     },
     "execution_count": 11,
     "metadata": {},
     "output_type": "execute_result"
    }
   ],
   "source": [
    "ratings_data.isnull().sum()"
   ]
  },
  {
   "cell_type": "code",
   "execution_count": 12,
   "id": "8199205b",
   "metadata": {},
   "outputs": [
    {
     "name": "stdout",
     "output_type": "stream",
     "text": [
      "0\n",
      "0\n",
      "0\n"
     ]
    }
   ],
   "source": [
    "print(books_data.duplicated().sum())\n",
    "print(ratings_data.duplicated().sum())\n",
    "print(user_data.duplicated().sum())"
   ]
  },
  {
   "cell_type": "markdown",
   "id": "f781725b",
   "metadata": {},
   "source": [
    "Popularity Based Recommender System"
   ]
  },
  {
   "cell_type": "code",
   "execution_count": null,
   "id": "c72d9d5d",
   "metadata": {},
   "outputs": [],
   "source": [
    "# Merging the ratings dataset with the books dataset on the common column 'ISBN' to create another dataset \n",
    "# that includes both ratings and the corresponding book information\n",
    "ratings_with_name = ratings.merge(books_data,on='ISBN')"
   ]
  },
  {
   "cell_type": "code",
   "execution_count": null,
   "id": "71e17ba3",
   "metadata": {},
   "outputs": [],
   "source": [
    "# Group the merged dataset by 'Book-Title' and count the number of ratings for each book \n",
    "# to understand how popular a book is by looking at how many times it has been rated\n",
    "num_rating_df = ratings_with_name.groupby('Book-Title').count()['Book-Rating'].reset_index()\n",
    "\n",
    "# Renaming the 'Book-Rating' column to 'num_ratings' for clarity\n",
    "# This makes it easier to interpret that the column contains the number of ratings each book has received\n",
    "num_rating_df.rename(columns={'Book-Rating':'num_ratings'}, inplace=True)\n",
    "\n",
    "# Display that the number of ratings has been counted and renamed correctly\n",
    "num_rating_df.head()"
   ]
  },
  {
   "cell_type": "code",
   "execution_count": null,
   "id": "38be3703",
   "metadata": {},
   "outputs": [],
   "source": [
    "# Group the merged dataset by 'Book-Title' and calculate the average rating for each book\n",
    "# Determine how well-rated each book is on average, which helps in recommending highly-rated books\n",
    "avg_rating_df = ratings_with_name.groupby('Book-Title')['Book-Rating'].mean().reset_index()\n",
    "\n",
    "# Rename the 'Book-Rating' column to 'avg_rating' to make clear that the column now contains the average rating for each book, not individual ratings\n",
    "avg_rating_df.rename(columns={'Book-Rating':'avg_rating'}, inplace=True)\n",
    "\n",
    "# Display the first few rows of the dataframe to verify that the average ratings were calculated correctly\n",
    "avg_rating_df.head()"
   ]
  },
  {
   "cell_type": "code",
   "execution_count": null,
   "id": "05ff451b",
   "metadata": {},
   "outputs": [],
   "source": [
    "# Merge the 'num_rating_df' and 'avg_rating_df' dataframes on 'Book-Title'\n",
    "# Combine the two pieces of information: the number of ratings and the average rating for each book\n",
    "# This merged dataframe will allow us to recommend books that are both popular (high number of ratings) and well-rated (high average rating)\n",
    "popular_df = num_rating_df.merge(avg_rating_df, on='Book-Title')\n",
    "\n",
    "# Display the first few rows to check if the number of ratings and average ratings have been combined correctly\n",
    "popular_df.head()"
   ]
  },
  {
   "cell_type": "code",
   "execution_count": null,
   "id": "b2c6ea02",
   "metadata": {},
   "outputs": [],
   "source": [
    "# Filtering the 'popular_df' to include only books that have at least 250 ratings\n",
    "# Ensure that the recommendations are based on books with a significant number of ratings, making them more reliable and widely liked\n",
    "# Select top 50 books based on this ranking that limits the recommendations to a manageable number of top-rated popular books\n",
    "popular_df = popular_df[popular_df['num_ratings']>=250].sort_values('avg_rating',ascending=False).head(50)\n",
    "\n",
    "# Display the first few rows of the resulting dataframe to ensure the filtering and sorting worked correctly\n",
    "popular_df.head()"
   ]
  },
  {
   "cell_type": "code",
   "execution_count": null,
   "id": "0dd465ec",
   "metadata": {},
   "outputs": [],
   "source": [
    "# Merge the 'popular_df' with the original 'books_data' on 'Book-Title'\n",
    "# Add additional book details (such as author, publisher, and year) to the previously created 'popular_df'\n",
    "# Make the recommendations more informative and useful, as users can see more than just the title and rating\n",
    "popular_df = popular_df.merge(books_data, on='Book-Title')\n",
    "\n",
    "# Display the first row of the updated dataframe to verify that 'books_data' have been successfully merged\n",
    "popular_df.head(1)"
   ]
  },
  {
   "cell_type": "code",
   "execution_count": null,
   "id": "9d5f0590",
   "metadata": {},
   "outputs": [],
   "source": [
    "# Check the shape of the 'popular_df' dataframe\n",
    "# Confirm the size of the dataset after merging with 'books_data'\n",
    "popular_df.shape\n",
    "\n",
    "# Count the number of duplicate entries in the 'Book-Title' column of 'popular_df'\n",
    "# Ensure that each book title appears only once in the recommendations\n",
    "print(popular_df.duplicated('Book-Title').sum())"
   ]
  },
  {
   "cell_type": "code",
   "execution_count": null,
   "id": "32c3514a",
   "metadata": {},
   "outputs": [],
   "source": [
    "# Drop duplicate entries in the 'Book-Title' column from 'popular_df'\n",
    "# Ensure that each book title appears only once, preventing skewed recommendations due to repeated entries\n",
    "# Use 'inplace=True' argument to modify the original dataframe directly, rather than creating a copy\n",
    "popular_df.drop_duplicates('Book-Title', inplace=True)\n",
    "\n",
    "# Check the shape of the 'popular_df' dataframe again to confirm that the number of rows has been reduced accordingly\n",
    "print(popular_df.shape)\n",
    "\n",
    "# Printing the column names of 'popular_df' to verify that the dataframe contains the expected columns \n",
    "print(popular_df.columns)"
   ]
  },
  {
   "cell_type": "code",
   "execution_count": null,
   "id": "596a0506",
   "metadata": {},
   "outputs": [],
   "source": [
    "# Select only the relevant columns ('Book-Title', 'Book-Author', 'Image-URL-M') from 'popular_df'\n",
    "# Simplify the dataframe to include only the information necessary for making recommendations\n",
    "# Make the output cleaner and more user-friendly, highlighting the book title, author, and image\n",
    "popular_df = popular_df[['Book-Title', 'Book-Author', 'Image-URL-M']]\n",
    "\n",
    "# Displaying the first row of the final 'popular_df' dataframe to verify that it contains only the selected columns\n",
    "# Ensure that the structure is correct and ready for presentation or further use in the recommendation system\n",
    "print(popular_df.head(1))"
   ]
  },
  {
   "cell_type": "markdown",
   "id": "44e7ca72",
   "metadata": {},
   "source": [
    "Collaborative Filtering Based Recommender System"
   ]
  },
  {
   "cell_type": "code",
   "execution_count": null,
   "id": "d0f01f73",
   "metadata": {},
   "outputs": [],
   "source": [
    "# Group the 'ratings_with_name' dataset by 'User-ID' and counting the number of ratings each user has given\n",
    "# Identify users who are active enough in rating books, which helps ensure the quality of recommendations\n",
    "x = ratings_with_name.groupby('User-ID').count()['Book-Rating'] > 200\n",
    "\n",
    "# Extracting the indices of users who have rated more than 200 books\n",
    "# Retain only those users whose preferences are well-established, improving the reliability \n",
    "users_rating_more_than_200 = x[x].index\n",
    "\n",
    "# Filter the original 'ratings_with_name' dataset to include only ratings from the selected active users\n",
    "# Reduce the dataset to a more manageable size and focuses on users who contribute significantly to the ratings\n",
    "filtered_rating = ratings_with_name[ratings_with_name['User-ID'].isin(users_rating_more_than_200)]\n",
    "\n",
    "# Group the filtered dataset by 'Book-Title' and counting the number of ratings for each book\n",
    "# Identify books that have received a sufficient number of ratings, which is crucial for making accurate recommendations\n",
    "y = filtered_rating.groupby('Book-Title').count()['Book-Rating'] >= 50\n",
    "\n",
    "# Extract the indices of books that have been rated 50 times or more\n",
    "# Ensure that only popular books are included in the recommendations, enhancing the overall quality \n",
    "book_rating_more_than_49 = y[y].index"
   ]
  },
  {
   "cell_type": "code",
   "execution_count": null,
   "id": "6afccd34",
   "metadata": {},
   "outputs": [],
   "source": [
    "# Filter the 'filtered_rating' dataframe to include only those ratings for books that have been rated 50 times or more\n",
    "# Ensure that the final dataset contains only popular books, which improves the reliability \n",
    "final_ratings = filtered_rating[filtered_rating['Book-Title'].isin(book_rating_more_than_49)]\n",
    "\n",
    "# Print the 'final_ratings' dataframe to verify its contents\n",
    "# Confirm that the filtering was successful and that the dataset is ready for the next steps \n",
    "print(final_ratings)"
   ]
  },
  {
   "cell_type": "code",
   "execution_count": null,
   "id": "3174339c",
   "metadata": {},
   "outputs": [],
   "source": [
    "# Creating a pivot table from the 'final_ratings' dataframe\n",
    "# The pivot table has 'Book-Title' as the index and 'User-ID' as the columns, with 'Book-Rating' as the values\n",
    "# Transform the data into a matrix format where each row represents a book, each column represents a user, \n",
    "# and each cell contains the rating given by that user for that book\n",
    "pt = final_ratings.pivot_table(index='Book-Title', columns='User-ID', values='Book-Rating')\n",
    "\n",
    "# Display the first few rows of the pivot table to verify its structure and contents\n",
    "# Ensure that the data is correctly organized for subsequent analysis and modeling \n",
    "pt.head()"
   ]
  },
  {
   "cell_type": "code",
   "execution_count": null,
   "id": "f61afd38",
   "metadata": {},
   "outputs": [],
   "source": [
    "# Checking for missing values in the pivot table 'pt'\n",
    "# Identify any gaps in the data, which may affect the performance of the collaborative filtering algorithm\n",
    "pt.isnull().sum()"
   ]
  },
  {
   "cell_type": "code",
   "execution_count": null,
   "id": "67cd5fae",
   "metadata": {},
   "outputs": [],
   "source": [
    "# Filling missing values in the pivot table 'pt' with 0\n",
    "pt.fillna(0, inplace=True)\n",
    "\n",
    "# Display the first few rows of the updated pivot table to verify that the missing values have been filled correctly\n",
    "pt.head()"
   ]
  },
  {
   "cell_type": "code",
   "execution_count": null,
   "id": "e9d9a86b",
   "metadata": {},
   "outputs": [],
   "source": [
    "# Import the 'cosine_similarity' function from the 'sklearn.metrics.pairwise' module\n",
    "# This function computes the cosine similarity between the rows of the provided matrix, \n",
    "# it will help determine how similar the ratings patterns of different books are\n",
    "from sklearn.metrics.pairwise import cosine_similarity\n",
    "\n",
    "# Calculate the cosine similarity scores for the pivot table 'pt'\n",
    "# This results in a matrix where each element (i, j) represents the similarity score between book i and book j\n",
    "similarity_scores = cosine_similarity(pt)\n",
    "\n",
    "# Print the similarity scores for the first book in the pivot table,\n",
    "# and provide insight into how similar the first book is to all other books based on user ratings\n",
    "print(similarity_scores[0])"
   ]
  },
  {
   "cell_type": "code",
   "execution_count": null,
   "id": "56ca4b3c",
   "metadata": {},
   "outputs": [],
   "source": [
    "# Check the shape of the 'similarity_scores' matrix\n",
    "# This will return the dimensions of the matrix, which should be (number of books, number of books)\n",
    "similarity_scores.shape"
   ]
  },
  {
   "cell_type": "code",
   "execution_count": null,
   "id": "b2d7bb39",
   "metadata": {},
   "outputs": [],
   "source": [
    "# Defining a function that will recommend similar books based on the cosine similarity scores computed earlier\n",
    "def recommend(book_name):\n",
    "    # Find the index of the input book title in the pt's index to retrieve the position of the specified book\n",
    "    index = np.where(pt.index == book_name)[0][0]\n",
    "    \n",
    "    # Sort the similarity scores for the specified book in descending order\n",
    "    similar_items = sorted(list(enumerate(similarity_scores[index])), key=lambda x: x[1], reverse=True)[1:5]\n",
    "    \n",
    "    # Initialize an empty list to store details of the recommended books\n",
    "    recommended_books = []\n",
    "    \n",
    "    # Iterate over the top similar items to gather details for each recommended book\n",
    "    for i in similar_items:\n",
    "        # Extract the details of the recommended book from the 'books_data' dataframe using the index\n",
    "        book_details = books_data[books_data['Book-Title'] == pt.index[i[0]]]\n",
    "        \n",
    "        # Append the first (and only) row of the book details to the recommended_books list\n",
    "        recommended_books.append(book_details.iloc[0])\n",
    "    \n",
    "    # Create a new DataFrame from the list of recommended books\n",
    "    recommended_df = pd.DataFrame(recommended_books)\n",
    "    \n",
    "    # Drop any duplicate book titles from the recommendations\n",
    "    # Ensure that each recommended book appears only once in the final output\n",
    "    recommended_df.drop_duplicates('Book-Title', inplace=True)\n",
    "    \n",
    "    # Select only the relevant columns for the final output\n",
    "    recommended_df = recommended_df[['Book-Title', 'Book-Author', 'Image-URL-M']]\n",
    "    \n",
    "    # Optional: Convert the recommended DataFrame to JSON format for easier handling in web applications\n",
    "    # recommended_json = recommended_df.to_json(orient='records')\n",
    "    \n",
    "    # Return the DataFrame containing the recommended books\n",
    "    return recommended_df"
   ]
  },
  {
   "cell_type": "code",
   "execution_count": null,
   "id": "70e15b53",
   "metadata": {},
   "outputs": [],
   "source": [
    "# Call the function with specific book title\n",
    "recommend('Harry Potter and the Prisoner of Azkaban (Book 3)')"
   ]
  },
  {
   "cell_type": "code",
   "execution_count": null,
   "id": "91ae6a5b",
   "metadata": {},
   "outputs": [],
   "source": [
    "# Call the function with specific year\n",
    "recommend('1984')"
   ]
  },
  {
   "cell_type": "code",
   "execution_count": null,
   "id": "17d77069",
   "metadata": {},
   "outputs": [],
   "source": [
    "# Import 'pickle' module to enable serialization of Python objects\n",
    "import pickle\n",
    "\n",
    "# Save the pivot table 'pt' to a file named 'pt.pkl' in binary write mode\n",
    "# Ensure that the preprocessed data is stored and can be reused without recalculating\n",
    "pickle.dump(pt, open('pt.pkl', 'wb'))\n",
    "\n",
    "# Save the 'books' DataFrame to a file named 'books.pkl' in binary write mode to preserve the book data\n",
    "pickle.dump(books, open('books.pkl', 'wb'))\n",
    "\n",
    "# Save'similarity_scores' matrix to a file named 'similarity_scores.pkl' in binary write mode\n",
    "# Store the similarity scores for quick access to the precomputed values\n",
    "pickle.dump(similarity_scores, open('similarity_scores.pkl', 'wb'))\n",
    "\n",
    "# Save the 'popular_df' DataFrame to a file named 'popular_df.pkl' in binary write mode\n",
    "# Ensures that the popular books data is preserved for easy access and display in future applications or analyses\n",
    "pickle.dump(popular_df, open('popular_df.pkl', 'wb'))\n"
   ]
  }
 ],
 "metadata": {
  "kernelspec": {
   "display_name": "Python 3 (ipykernel)",
   "language": "python",
   "name": "python3"
  },
  "language_info": {
   "codemirror_mode": {
    "name": "ipython",
    "version": 3
   },
   "file_extension": ".py",
   "mimetype": "text/x-python",
   "name": "python",
   "nbconvert_exporter": "python",
   "pygments_lexer": "ipython3",
   "version": "3.11.5"
  }
 },
 "nbformat": 4,
 "nbformat_minor": 5
}
