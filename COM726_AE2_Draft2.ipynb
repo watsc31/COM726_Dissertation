{
 "cells": [
  {
   "cell_type": "markdown",
   "id": "d1bde863",
   "metadata": {},
   "source": [
    "# Github Book Reccomendation System"
   ]
  },
  {
   "cell_type": "markdown",
   "id": "6ebea476",
   "metadata": {},
   "source": [
    "https://github.com/mujtabaali02/Book-Recommendation-System/blob/master/Book_Recommendation_Syatem.ipynb"
   ]
  },
  {
   "cell_type": "markdown",
   "id": "bd01db0f",
   "metadata": {},
   "source": [
    "# Load and Read Data"
   ]
  },
  {
   "cell_type": "code",
   "execution_count": null,
   "id": "182f12bb",
   "metadata": {},
   "outputs": [],
   "source": [
    "# Import pandas and numpy for loading, reading, and data preprocessing\n",
    "import pandas as pd\n",
    "import numpy as np\n",
    "\n",
    "# Load and read datasets\n",
    "books_data = pd.read_csv('Books.csv')\n",
    "ratings_data = pd.read_csv('Ratings.csv')\n",
    "user_data = pd.read_csv('Users.csv')"
   ]
  },
  {
   "cell_type": "markdown",
   "id": "9cbcf091",
   "metadata": {},
   "source": [
    "# Initial Data Analysis"
   ]
  },
  {
   "cell_type": "code",
   "execution_count": null,
   "id": "a1437bf3",
   "metadata": {},
   "outputs": [],
   "source": [
    "books_data.head()"
   ]
  },
  {
   "cell_type": "code",
   "execution_count": null,
   "id": "994b8e17",
   "metadata": {},
   "outputs": [],
   "source": [
    "ratings_data.head()"
   ]
  },
  {
   "cell_type": "code",
   "execution_count": null,
   "id": "ab39cbd0",
   "metadata": {},
   "outputs": [],
   "source": [
    "user_data.head()"
   ]
  },
  {
   "cell_type": "code",
   "execution_count": null,
   "id": "b9f86ecb",
   "metadata": {},
   "outputs": [],
   "source": [
    "# View how many rows and columns\n",
    "print(books_data.shape)\n",
    "print(ratings_data.shape)\n",
    "print(user_data.shape)"
   ]
  },
  {
   "cell_type": "code",
   "execution_count": null,
   "id": "cef030ef",
   "metadata": {},
   "outputs": [],
   "source": [
    "# View how many rows and columns\n",
    "print(books_data.shape)\n",
    "print(ratings_data.shape)\n",
    "print(user_data.shape)"
   ]
  },
  {
   "cell_type": "code",
   "execution_count": null,
   "id": "f3a0cec9",
   "metadata": {},
   "outputs": [],
   "source": [
    "# Check data type and if columns are correctly typed\n",
    "print(books_data.dtypes) \n",
    "print()\n",
    "print(ratings_data.dtypes)\n",
    "print()\n",
    "print(user_data.dtypes)"
   ]
  },
  {
   "cell_type": "code",
   "execution_count": null,
   "id": "6bd05a73",
   "metadata": {},
   "outputs": [],
   "source": [
    "# Get the number of unique values in each column\n",
    "print(books_data.nunique())  \n",
    "print()\n",
    "print(ratings_data.nunique())  \n",
    "print()\n",
    "print(user_data.nunique())"
   ]
  },
  {
   "cell_type": "code",
   "execution_count": null,
   "id": "d64d1fbc",
   "metadata": {},
   "outputs": [],
   "source": [
    "# View the frequency of different values\n",
    "print(books_data['Book-Title'].value_counts().head(10))  # Top 10 most common book titles\n",
    "print()\n",
    "print(ratings_data['User-ID'].value_counts().head(10))  # Top 10 most active users\n",
    "print()\n",
    "print(user_data['Location'].value_counts().head(10))   # Top 10 locations among users "
   ]
  },
  {
   "cell_type": "code",
   "execution_count": null,
   "id": "a30ec9e4",
   "metadata": {},
   "outputs": [],
   "source": [
    "# Check for missing values\n",
    "print(books_data.isnull().sum())\n",
    "print()\n",
    "print(ratings_data.isnull().sum())\n",
    "print()\n",
    "print(user_data.isnull().sum())"
   ]
  },
  {
   "cell_type": "code",
   "execution_count": null,
   "id": "fda587a4",
   "metadata": {},
   "outputs": [],
   "source": [
    "# Check for duplicates\n",
    "print(books_data.duplicated().sum())\n",
    "print(ratings_data.duplicated().sum())\n",
    "print(user_data.duplicated().sum())"
   ]
  },
  {
   "cell_type": "code",
   "execution_count": null,
   "id": "fd9cc531",
   "metadata": {},
   "outputs": [],
   "source": [
    "# Summary statistics \n",
    "print(books_data.describe())\n",
    "print()\n",
    "print(ratings_data.describe())\n",
    "print()\n",
    "print(user_data.describe())"
   ]
  },
  {
   "cell_type": "code",
   "execution_count": null,
   "id": "f395fc82",
   "metadata": {},
   "outputs": [],
   "source": [
    "# Drop the non-numeric columns for correlation analysis\n",
    "ratings_numeric = ratings_data.drop(columns=['ISBN'])\n",
    "\n",
    "# Calculate the correlation for numeric columns only\n",
    "correlation_matrix = ratings_numeric.corr()\n",
    "\n",
    "# Print correlation matrix\n",
    "print(correlation_matrix)"
   ]
  },
  {
   "cell_type": "markdown",
   "id": "0665fe67",
   "metadata": {},
   "source": [
    "# Data Preprocessing"
   ]
  },
  {
   "cell_type": "markdown",
   "id": "7cbaa430",
   "metadata": {},
   "source": [
    "Handling Missing Values and Cleaning the Data -- Users, Books, Ratings"
   ]
  },
  {
   "cell_type": "code",
   "execution_count": null,
   "id": "500b2eac",
   "metadata": {},
   "outputs": [],
   "source": [
    "# For User Data missing values are in the age column: \n",
    "\n",
    "# Calculate the median of the Age column, excluding missing values\n",
    "median_age = user_data['Age'].median()\n",
    "\n",
    "# Fill missing values in the Age column with the median value\n",
    "user_data['Age'].fillna(median_age, inplace=True)\n",
    "\n",
    "# Verify that there are no more missing values in the Age column\n",
    "print(user_data['Age'].isnull().sum())"
   ]
  },
  {
   "cell_type": "code",
   "execution_count": null,
   "id": "fc7402b3",
   "metadata": {},
   "outputs": [],
   "source": [
    "#Capping the outlier rows with Percentiles\n",
    "upper_lim = user_data['Age'].quantile(.95)\n",
    "lower_lim = user_data['Age'].quantile(.05)\n",
    "user_data.loc[(user_data[\"Age\"] > upper_lim),\"Age\"] = upper_lim\n",
    "user_data.loc[(user_data[\"Age\"] < lower_lim),\"Age\"] = lower_lim"
   ]
  },
  {
   "cell_type": "code",
   "execution_count": null,
   "id": "a977b432",
   "metadata": {},
   "outputs": [],
   "source": [
    "user_data['Age'].describe()"
   ]
  },
  {
   "cell_type": "code",
   "execution_count": null,
   "id": "eb551349",
   "metadata": {},
   "outputs": [],
   "source": [
    "# For Book Data missing values are book author and publisher:\n",
    "\n",
    "# Fill missing values in the Book-Author column with a placeholder\n",
    "books_data['Book-Author'].fillna('Unknown Author', inplace=True)\n",
    "\n",
    "# Fill missing values in the Publisher column with a placeholder\n",
    "books_data['Publisher'].fillna('Unknown Publisher', inplace=True)\n",
    "\n",
    "# Verify that there are no more missing values in the relevant columns\n",
    "print(books_data[['Book-Author', 'Publisher']].isnull().sum())"
   ]
  },
  {
   "cell_type": "code",
   "execution_count": null,
   "id": "df6cd294",
   "metadata": {},
   "outputs": [],
   "source": [
    "# Book Data (continued), year of publication is an object and inconsistant for further EDA:\n",
    "books_data['Year-Of-Publication'].unique()"
   ]
  },
  {
   "cell_type": "code",
   "execution_count": null,
   "id": "e7351e80",
   "metadata": {},
   "outputs": [],
   "source": [
    "# Convert years from objects to integers\n",
    "# Convert invalid entries to NaN\n",
    "books_data['Year-Of-Publication'] = pd.to_numeric(books_data['Year-Of-Publication'], errors='coerce')\n",
    "\n",
    "# Fill NaN values with with 0\n",
    "books_data['Year-Of-Publication'].fillna(0, inplace=True)  \n",
    "\n",
    "# Verify the conversion\n",
    "print(books_data['Year-Of-Publication'].dtype"
   ]
  },
  {
   "cell_type": "code",
   "execution_count": null,
   "id": "178f792e",
   "metadata": {},
   "outputs": [],
   "source": [
    "# Calculate the upper and lower limits for capping the outliers\n",
    "upper_lim = 2024  # Set the upper limit to 2024\n",
    "lower_lim = books_data['Year-Of-Publication'].quantile(0.05)  # 5th percentile\n",
    "\n",
    "# Cap the outlier rows\n",
    "books_data.loc[books_data['Year-Of-Publication'] > upper_lim, 'Year-Of-Publication'] = upper_lim\n",
    "books_data.loc[books_data['Year-Of-Publication'] < lower_lim, 'Year-Of-Publication'] = lower_lim\n",
    "\n",
    "# Verify the changes\n",
    "print(books_data['Year-Of-Publication'].describe())"
   ]
  },
  {
   "cell_type": "markdown",
   "id": "53951a8c",
   "metadata": {},
   "source": [
    "# Merging the Datasets "
   ]
  },
  {
   "cell_type": "markdown",
   "id": "f5b0297f",
   "metadata": {},
   "source": [
    "For further and consistant EDA and creation of the recommendation system"
   ]
  },
  {
   "cell_type": "code",
   "execution_count": null,
   "id": "0d1a9c77",
   "metadata": {},
   "outputs": [],
   "source": [
    "# Merge users and rating dataframe using the User-ID as the key identifier\n",
    "users_ratings_df = pd.merge(user_data,ratings_data, on='User-ID')"
   ]
  },
  {
   "cell_type": "code",
   "execution_count": null,
   "id": "17e67fea",
   "metadata": {},
   "outputs": [],
   "source": [
    "# Mergecombined data of users and ratings with books data with ISBN as key identifier\n",
    "merged_df = pd.merge(books_data,users_ratings_df, on='ISBN')"
   ]
  },
  {
   "cell_type": "code",
   "execution_count": null,
   "id": "99221255",
   "metadata": {},
   "outputs": [],
   "source": [
    "# Verify all 3 dataframes merged correctly\n",
    "merged_df.head()"
   ]
  },
  {
   "cell_type": "code",
   "execution_count": null,
   "id": "b6a5ba06",
   "metadata": {},
   "outputs": [],
   "source": [
    "merged_df.info()"
   ]
  },
  {
   "cell_type": "code",
   "execution_count": null,
   "id": "8d348e21",
   "metadata": {},
   "outputs": [],
   "source": [
    "# Drop unnecessary features\n",
    "merged_df.drop(columns=['Image-URL-S','Image-URL-M','Image-URL-L'], axis=1,inplace=True)\n",
    "\n",
    "merged_df.head()"
   ]
  },
  {
   "cell_type": "markdown",
   "id": "bba5bc52",
   "metadata": {},
   "source": [
    "# Exploratory Data Analysis"
   ]
  },
  {
   "cell_type": "markdown",
   "id": "d4e3e111",
   "metadata": {},
   "source": [
    "Ratings per Book"
   ]
  },
  {
   "cell_type": "code",
   "execution_count": null,
   "id": "3a27ac24",
   "metadata": {},
   "outputs": [],
   "source": [
    "#Import necessary visualization libraries\n",
    "import matplotlib.pyplot as plt\n",
    "import seaborn as sns\n",
    "\n",
    "# Group by 'Book-Title' and count the number of ratings for each book\n",
    "ratings_per_book = merged_df.groupby('Book-Title').count()['Book-Rating'].reset_index()\n",
    "ratings_per_book.columns = ['Book-Title', 'Num-Ratings']\n",
    "\n",
    "# Sort the books by the number of ratings in descending order \n",
    "ratings_per_book = ratings_per_book.sort_values(by='Num-Ratings', ascending=False)\n",
    "\n",
    "# Plot the distribution of ratings per book\n",
    "plt.figure(figsize=(12, 6))\n",
    "plt.hist(ratings_per_book['Num-Ratings'], bins=50, color='skyblue', edgecolor='black')\n",
    "plt.xlabel('Number of Ratings')\n",
    "plt.ylabel('Number of Books')\n",
    "plt.title('Distribution of Ratings per Book')\n",
    "plt.yscale('log')  # Log scale to account for large skew in the data\n",
    "plt.show()"
   ]
  },
  {
   "cell_type": "markdown",
   "id": "0c587cb3",
   "metadata": {},
   "source": [
    "Top 10 Most Occuring Books"
   ]
  },
  {
   "cell_type": "code",
   "execution_count": null,
   "id": "f44ec04f",
   "metadata": {},
   "outputs": [],
   "source": [
    "# Get the top 10 most frequently occurring books in the dataset\n",
    "Top10_Book = merged_df['Book-Title'].value_counts().reset_index().head(10)\n",
    "Top10_Book.columns = ['Book_Title', 'Count']  # Rename columns appropriately\n",
    "\n",
    "# Check the column names to ensure they were renamed correctly\n",
    "print(Top10_Book.columns)"
   ]
  },
  {
   "cell_type": "code",
   "execution_count": null,
   "id": "66aed8fd",
   "metadata": {},
   "outputs": [],
   "source": [
    "# Plot the barplot for top 10 books\n",
    "plt.rcParams['figure.figsize'] = (10, 5)\n",
    "sns.barplot(x='Book_Title', y='Count', data=Top10_Book)\n",
    "plt.xticks(rotation=70, horizontalalignment=\"center\")\n",
    "plt.grid(axis='y', linestyle='--')\n",
    "plt.title('Top 10 Occuring Books')\n",
    "plt.xlabel('Book Title')\n",
    "plt.ylabel('Count')\n",
    "plt.show()"
   ]
  },
  {
   "cell_type": "markdown",
   "id": "10b8ece0",
   "metadata": {},
   "source": [
    "Top 10 author with most books written"
   ]
  },
  {
   "cell_type": "code",
   "execution_count": null,
   "id": "0024390c",
   "metadata": {},
   "outputs": [],
   "source": [
    "# Create a DataFrame of the top 10 authors based on their book count\n",
    "Top10_author = merged_df['Book-Author'].value_counts().reset_index().head(10)\n",
    "\n",
    "# Rename columns to clearly indicate author names and count of books\n",
    "Top10_author.columns = ['Book-Author', 'Count']\n",
    "\n",
    "# Display the top 10 authors DataFrame\n",
    "Top10_author"
   ]
  },
  {
   "cell_type": "code",
   "execution_count": null,
   "id": "4b549166",
   "metadata": {},
   "outputs": [],
   "source": [
    "# Create a barplot for the top 10 authors\n",
    "sns.barplot(x=\"Book-Author\", y=\"Count\", data=Top10_author)\n",
    "\n",
    "# Rotate x-axis labels for better readability\n",
    "plt.xticks(rotation=70, horizontalalignment=\"center\")\n",
    "\n",
    "# Set plot title and font size\n",
    "plt.title(\"Top 10 Authors with the Most Books Written\", fontsize=20)\n",
    "\n",
    "# Display the plot\n",
    "plt.show()"
   ]
  },
  {
   "cell_type": "markdown",
   "id": "dee88e46",
   "metadata": {},
   "source": [
    "Top 10 Countries of Users "
   ]
  },
  {
   "cell_type": "code",
   "execution_count": null,
   "id": "4bf99bcd",
   "metadata": {},
   "outputs": [],
   "source": [
    "# Import re to leverage regular expressions for extracting the last word of a location string, \n",
    "# which often represents the country\n",
    "import re\n",
    "\n",
    "# Dictionary to map common abbreviations and country names correctly\n",
    "country_mapping = {\n",
    "    'usa': 'USA', 'canada': 'Canada', 'kingdom': 'United Kingdom', \n",
    "    'germany': 'Germany', 'australia': 'Australia', 'spain': 'Spain', \n",
    "    'france': 'France', 'portugal': 'Portugal', 'uk': 'United Kingdom'\n",
    "}\n",
    "\n",
    "# Function to extract and map country name\n",
    "def extract_country(location):\n",
    "    # Extract the last word in location string\n",
    "    country = re.search(r'([a-zA-Z]+)$', location.lower())\n",
    "    if country:\n",
    "        country = country.group(1)\n",
    "        # Use the dictionary to map to correct country name\n",
    "        return country_mapping.get(country, country.capitalize())\n",
    "    return 'Unknown'  # For locations that don't match\n",
    "\n",
    "# Apply the function to create a clean 'Country' column\n",
    "merged_df['Country'] = merged_df['Location'].apply(extract_country)"
   ]
  },
  {
   "cell_type": "code",
   "execution_count": null,
   "id": "82b8c27e",
   "metadata": {},
   "outputs": [],
   "source": [
    "# Create dataframe for Top 5 Countries \n",
    "Top5_Country = merged_df['Country'].value_counts().reset_index().head(5)\n",
    "Top5_Country.columns = ['Country', 'Count']  "
   ]
  },
  {
   "cell_type": "code",
   "execution_count": null,
   "id": "d2cb7f7e",
   "metadata": {},
   "outputs": [],
   "source": [
    "# Check the column names to confirm they are correct\n",
    "print(Top5_Country.columns)\n",
    "print(Top5_Country.head(5))"
   ]
  },
  {
   "cell_type": "code",
   "execution_count": null,
   "id": "71fef66f",
   "metadata": {},
   "outputs": [],
   "source": [
    "# Pie chart for top 5 countries with most users\n",
    "plt.figure(figsize=(8, 6))\n",
    "plt.pie(Top5_Country['Count'], labels=Top5_Country['Country'], autopct='%1.1f%%', startangle=140)\n",
    "plt.title(\"Top 5 Countries with Most Users\")\n",
    "plt.show()"
   ]
  },
  {
   "cell_type": "markdown",
   "id": "6509d0cf",
   "metadata": {},
   "source": [
    "Correlation Analysis - Numerical Data: Year-Of-Publication, User-ID, Age, and Book-Rating"
   ]
  },
  {
   "cell_type": "code",
   "execution_count": null,
   "id": "e7b0ab66",
   "metadata": {},
   "outputs": [],
   "source": [
    "# Import seaborn module for further correlation visulisation \n",
    "import seaborn as sns\n",
    "\n",
    "# Extract relevant columns from the merged_df\n",
    "correlation_data = merged_df[['Year-Of-Publication', 'User-ID', 'Age', 'Book-Rating']]\n",
    "\n",
    "# Calculate the correlation matrix\n",
    "correlation_matrix = correlation_data.corr()\n",
    "\n",
    "# Display the correlation matrix\n",
    "print(\"Correlation Matrix:\")\n",
    "print(correlation_matrix)\n",
    "\n",
    "# Visualize the correlation matrix using a heatmap\n",
    "plt.figure(figsize=(8, 6))\n",
    "sns.heatmap(correlation_matrix, annot=True, cmap='coolwarm', linewidths=0.5, fmt=\".2f\")\n",
    "plt.title('Correlation Analysis of Year-Of-Publication, User-ID, Age, and Book-Rating')\n",
    "plt.show()\n"
   ]
  },
  {
   "cell_type": "markdown",
   "id": "524ab705",
   "metadata": {},
   "source": [
    "Distribution for each Book's Average Rating"
   ]
  },
  {
   "cell_type": "code",
   "execution_count": null,
   "id": "097471e4",
   "metadata": {},
   "outputs": [],
   "source": [
    "# Calculate average ratings per book\n",
    "average_ratings = merged_df.groupby('Book-Title')['Book-Rating'].mean()\n",
    "\n",
    "# Plot the distribution of average ratings\n",
    "plt.figure(figsize=(10, 6))\n",
    "sns.histplot(average_ratings, bins=20, kde=True, color='red')\n",
    "plt.xlabel('Average Rating')\n",
    "plt.ylabel('Number of Books')\n",
    "plt.title('Distribution of Average Book Ratings')\n",
    "plt.show()"
   ]
  },
  {
   "cell_type": "markdown",
   "id": "ae6cd74a",
   "metadata": {},
   "source": [
    "# Building the Collaborative Filtering Models"
   ]
  },
  {
   "cell_type": "markdown",
   "id": "671b968b",
   "metadata": {},
   "source": [
    "Collaborative filtering methods Collaborative methods for recommender systems are methods that are based solely on the past interactions recorded between users and items in order to produce new recommendations. These interactions are stored in the so-called “user-item interactions matrix”."
   ]
  },
  {
   "cell_type": "code",
   "execution_count": null,
   "id": "01897e07",
   "metadata": {},
   "outputs": [],
   "source": [
    "# Import necessary libraries and modules from sci-kit learn to begin building reccomendation model\n",
    "from scipy.stats import norm\n",
    "from sklearn.preprocessing import MinMaxScaler\n",
    "from sklearn.preprocessing import StandardScaler\n",
    "from sklearn.metrics import roc_auc_score, confusion_matrix,accuracy_score,f1_score,roc_curve, roc_auc_score,classification_report,precision_score, recall_score\n",
    "from sklearn.model_selection import train_test_split\n",
    "from scipy import stats\n",
    "import ast\n",
    "from sklearn.metrics.pairwise import cosine_similarity\n",
    "from sklearn.neighbors import NearestNeighbors\n",
    "from scipy.sparse import csr_matrix\n",
    "from surprise import Reader, Dataset\n",
    "from surprise.model_selection import train_test_split\n",
    "from surprise import SVDpp, accuracy\n",
    "from surprise.model_selection import cross_validate\n",
    "from collections import defaultdict\n",
    "from surprise import SVD, SVDpp, NMF\n",
    "from surprise import SlopeOne, CoClustering"
   ]
  },
  {
   "cell_type": "markdown",
   "id": "b4c4dc7e",
   "metadata": {},
   "source": [
    "# SVD++ (from Github)"
   ]
  },
  {
   "cell_type": "markdown",
   "id": "b54cdb06",
   "metadata": {},
   "source": [
    "Data Preparation"
   ]
  },
  {
   "cell_type": "code",
   "execution_count": null,
   "id": "89c8e694",
   "metadata": {},
   "outputs": [],
   "source": [
    "#Rating head\n",
    "ratings_data.head(1)"
   ]
  },
  {
   "cell_type": "code",
   "execution_count": null,
   "id": "3192c9f4",
   "metadata": {},
   "outputs": [],
   "source": [
    "#Rating data with exclusion of Books with rating 0\n",
    "ratings = ratings_data[ratings_data['Book-Rating'] != 0]\n",
    "\n",
    "#Merging dataframe rating and books on ISBN\n",
    "df = pd.merge(ratings_data,books_data, on='ISBN')"
   ]
  },
  {
   "cell_type": "markdown",
   "id": "bcd2d515",
   "metadata": {},
   "source": [
    "Implementing KNN - Books which are rated by atleast 10 users"
   ]
  },
  {
   "cell_type": "code",
   "execution_count": null,
   "id": "9196daba",
   "metadata": {},
   "outputs": [],
   "source": [
    "# Books interactionn count\n",
    "books_interactions_count_df = df.groupby(['ISBN', 'User-ID']).size().groupby('ISBN').size()\n",
    "print('# of books: %d' % len(books_interactions_count_df))\n",
    "\n",
    "# Books with enough interactions\n",
    "books_with_enough_interactions_df = books_interactions_count_df[books_interactions_count_df >= 10].reset_index()[['ISBN']]\n",
    "print('# of books with at least 10 interactions: %d' % len(books_with_enough_interactions_df))\n",
    "print(books_with_enough_interactions_df.head(5))"
   ]
  },
  {
   "cell_type": "markdown",
   "id": "8814bd83",
   "metadata": {},
   "source": [
    "Users which have rated atleast 25 different books"
   ]
  },
  {
   "cell_type": "code",
   "execution_count": null,
   "id": "82d6509d",
   "metadata": {},
   "outputs": [],
   "source": [
    "# Users interactionn count\n",
    "users_interactions_count_df = df.groupby(['User-ID', 'ISBN']).size().groupby('User-ID').size()\n",
    "print('# of users: %d' % len(users_interactions_count_df))\n",
    "\n",
    "# Users with enough interactions\n",
    "users_with_enough_interactions_df = users_interactions_count_df[users_interactions_count_df >= 25].reset_index()[['User-ID']]\n",
    "print('# of users with at least 25 interactions: %d' % len(users_with_enough_interactions_df))\n",
    "print(users_with_enough_interactions_df.head(5))"
   ]
  },
  {
   "cell_type": "code",
   "execution_count": null,
   "id": "277d80da",
   "metadata": {},
   "outputs": [],
   "source": [
    "# Users with enough interactions\n",
    "print('# of interactions: %d' % len(df))\n",
    "interactions_from_selected_users_df = df.merge(users_with_enough_interactions_df, \n",
    "               how = 'right',\n",
    "               on = 'User-ID')\n",
    "print('# of interactions from users with at least 25 interactions: %d' % len(interactions_from_selected_users_df))"
   ]
  },
  {
   "cell_type": "markdown",
   "id": "7b8d2cec",
   "metadata": {},
   "source": [
    "Dataframe of Users and Books with enough interactions"
   ]
  },
  {
   "cell_type": "code",
   "execution_count": null,
   "id": "2de472e4",
   "metadata": {},
   "outputs": [],
   "source": [
    "# Users and Books with enough interactions\n",
    "print('# of interactions: %d' % len(df))\n",
    "interactions_from_selected_books_and_users_df= interactions_from_selected_users_df.merge(books_with_enough_interactions_df, on = 'ISBN')\n",
    "print('# of interactions from users with at least 25 interactions and books with at least 10 interactions: %d' % len(interactions_from_selected_books_and_users_df))"
   ]
  },
  {
   "cell_type": "code",
   "execution_count": null,
   "id": "a5f0e13f",
   "metadata": {},
   "outputs": [],
   "source": [
    "# Interactions from selected books and users dataframe\n",
    "interactions_from_selected_books_and_users_df.head(5)"
   ]
  },
  {
   "cell_type": "code",
   "execution_count": null,
   "id": "aa1b1812",
   "metadata": {},
   "outputs": [],
   "source": [
    "# Shape of interactions from selected books and users dataframe\n",
    "interactions_from_selected_books_and_users_df.shape"
   ]
  },
  {
   "cell_type": "code",
   "execution_count": null,
   "id": "228a1c55",
   "metadata": {},
   "outputs": [],
   "source": [
    "# Aggregate all the interactions of users and applying log transformation to rating\n",
    "import math\n",
    "def smooth_user_preference(x):\n",
    "    return math.log(1+x, 2)\n",
    "\n",
    "interactions_full_df1 = interactions_from_selected_books_and_users_df.groupby(['User-ID', 'Book-Title'])['Book-Rating'].sum().apply(smooth_user_preference).reset_index()\n",
    "print('# of unique user/item interactions: %d' % len(interactions_full_df1))\n",
    "interactions_full_df = interactions_from_selected_books_and_users_df.groupby(['User-ID', 'ISBN'])['Book-Rating'].sum().apply(smooth_user_preference).reset_index()\n",
    "print('# of unique user/item interactions: %d' % len(interactions_full_df))\n",
    "interactions_full_df.head(5)"
   ]
  },
  {
   "cell_type": "code",
   "execution_count": null,
   "id": "803a13e3",
   "metadata": {},
   "outputs": [],
   "source": [
    "#Create a sparse pivot table\n",
    "\n",
    "df_user_item_matrix = interactions_full_df.pivot(index='ISBN',columns='User-ID',values='Book-Rating').fillna(0)\n",
    "user_item_matrix_sparse = csr_matrix(df_user_item_matrix.values)\n",
    "df_user_item_matrix1 = interactions_full_df1.pivot(index='User-ID',columns='Book-Title',values='Book-Rating').fillna(0)\n",
    "df_user_item_matrix1=df_user_item_matrix1.transpose()\n",
    "user_item_matrix_sparse1 = csr_matrix(df_user_item_matrix1.values)\n",
    "user_item_matrix_sparse1=csr_matrix(df_user_item_matrix1.values)"
   ]
  },
  {
   "cell_type": "markdown",
   "id": "e84d5315",
   "metadata": {},
   "source": [
    "Model Building"
   ]
  },
  {
   "cell_type": "code",
   "execution_count": null,
   "id": "cafd2b05",
   "metadata": {},
   "outputs": [],
   "source": [
    "#Fitting Model\n",
    "model = NearestNeighbors(n_neighbors=30, metric='cosine', algorithm='brute', n_jobs=-1)\n",
    " \n",
    "model.fit(user_item_matrix_sparse1)"
   ]
  },
  {
   "cell_type": "markdown",
   "id": "49dcdfe0",
   "metadata": {},
   "source": [
    "Recommendations for randomly selected book"
   ]
  },
  {
   "cell_type": "code",
   "execution_count": null,
   "id": "888895f0",
   "metadata": {},
   "outputs": [],
   "source": [
    "query_index = np.random.choice(df_user_item_matrix1.shape[0])\n",
    "distances, indices = model.kneighbors(df_user_item_matrix1.iloc[query_index, :].values.reshape((1, -1)), n_neighbors = 16)\n",
    "\n",
    "for i in range(0, len(distances.flatten())):\n",
    "    if i == 0:\n",
    "        print('Recommendations for Book {0}:\\n'.format(df_user_item_matrix1.index[query_index]))\n",
    "    else:\n",
    "        print('{0}: {1}, with distance of {2}:'.format(i, df_user_item_matrix1.index[indices.flatten()[i]], distances.flatten()[i]))"
   ]
  },
  {
   "cell_type": "markdown",
   "id": "bc4b9cb9",
   "metadata": {},
   "source": [
    "Recommendations based on a specific book"
   ]
  },
  {
   "cell_type": "code",
   "execution_count": null,
   "id": "eac86867",
   "metadata": {},
   "outputs": [],
   "source": [
    "#Model building and recommendation for perticular book\n",
    "model = NearestNeighbors(n_neighbors=30, metric='cosine', algorithm='brute', n_jobs=-1)\n",
    " \n",
    "model.fit(user_item_matrix_sparse)\n",
    "\n",
    "index_to_book = dict()\n",
    " \n",
    "df_titles_book = df.set_index('ISBN').loc[df_user_item_matrix.index]\n",
    " \n",
    "count = 0\n",
    " \n",
    "for index, row in df_titles_book.iterrows():\n",
    " \n",
    "    index_to_book[count]=row['Book-Title']\n",
    " \n",
    "    count +=1\n",
    " \n",
    " \n",
    "def recommender(model, user_item_matrix_sparse, df_book, number_of_recommendations, book_index):\n",
    " \n",
    "    main_title = index_to_book[book_index]\n",
    " \n",
    "    dist, ind = model.kneighbors(user_item_matrix_sparse[book_index], n_neighbors=number_of_recommendations+1)\n",
    " \n",
    "    dist = dist[0].tolist()\n",
    " \n",
    "    ind = ind[0].tolist()\n",
    " \n",
    "    titles = []\n",
    " \n",
    "    for index in ind:\n",
    " \n",
    "        titles.append(index_to_book[index])\n",
    " \n",
    "    recommendations = list(zip(titles,dist))    \n",
    " \n",
    "    # sort recommendations\n",
    "\n",
    "    recommendations_sorted = sorted(recommendations, key = lambda x:x[1])\n",
    " \n",
    "    # reverse recommendations, leaving out the first element \n",
    " \n",
    "    recommendations_sorted.reverse()\n",
    " \n",
    "    recommendations_sorted = recommendations_sorted[:-1]\n",
    " \n",
    "    print(\"Recommendations for Book {}: \".format(main_title))\n",
    " \n",
    "    count = 0\n",
    " \n",
    "    for (title, distance) in recommendations_sorted:\n",
    " \n",
    "        count += 1\n",
    " \n",
    "        print('{}. {}, recommendation score = {}'.format(count, title, round(distance,5)))\n",
    " \n",
    "recommender(model, user_item_matrix_sparse, df, 10, 10)"
   ]
  },
  {
   "cell_type": "markdown",
   "id": "65da3012",
   "metadata": {},
   "source": [
    "Train Test Split And Model Building for SVD++"
   ]
  },
  {
   "cell_type": "code",
   "execution_count": null,
   "id": "6998d068",
   "metadata": {},
   "outputs": [],
   "source": [
    "# test set is made of 25% of the ratings.\n",
    "trainset, testset = train_test_split(data, test_size=0.25)\n",
    "\n",
    "# We'll use the famous SVD algorithm\n",
    "algo = SVDpp()\n",
    "\n",
    "# Train the algorithm on the trainset, and predict ratings for the testset\n",
    "algo.fit(trainset)\n",
    "predictions = algo.test(testset)\n",
    "\n",
    "# Then compute RMSE\n",
    "accuracy.rmse(predictions)\n",
    "\n",
    "# Then compute MAE\n",
    "accuracy.mae(predictions)"
   ]
  },
  {
   "cell_type": "code",
   "execution_count": null,
   "id": "a9ca0dfc",
   "metadata": {},
   "outputs": [],
   "source": [
    "interactions_full_df.head(1)"
   ]
  },
  {
   "cell_type": "code",
   "execution_count": null,
   "id": "7ae88903",
   "metadata": {},
   "outputs": [],
   "source": [
    "# Example user and ISBN number for predicted rating\n",
    "user_id = '254'\n",
    "\n",
    "isbn = '0060934700'\n",
    "\n",
    "prediction = algo.predict(uid=user_id, iid=isbn)\n",
    "\n",
    "print(\"Predicted rating of user with id {} for movie with id {}: {}\".format(user_id, isbn, round(prediction.est,3)))"
   ]
  },
  {
   "cell_type": "code",
   "execution_count": null,
   "id": "d79ed811",
   "metadata": {},
   "outputs": [],
   "source": [
    "# Predictions- actual and estimated\n",
    "predictions"
   ]
  },
  {
   "cell_type": "code",
   "execution_count": null,
   "id": "7dfd5931",
   "metadata": {},
   "outputs": [],
   "source": [
    "# Visualize the prediction output\n",
    "actual_ratings = [pred.r_ui for pred in predictions if pred.uid == user_id]\n",
    "estimated_ratings = [pred.est for pred in predictions if pred.uid == user_id]\n",
    "\n",
    "plt.figure(figsize=(10, 6))\n",
    "sns.scatterplot(x=actual_ratings, y=estimated_ratings, alpha=0.6)\n",
    "plt.xlabel('Actual Ratings')\n",
    "plt.ylabel('Predicted Ratings')\n",
    "plt.title('Actual vs Predicted Ratings for User {}'.format(user_id))\n",
    "plt.grid(True)\n",
    "plt.show()"
   ]
  },
  {
   "cell_type": "markdown",
   "id": "f918fcb5",
   "metadata": {},
   "source": [
    "# Incorporating the Diversity Factor using SVD++"
   ]
  },
  {
   "cell_type": "code",
   "execution_count": null,
   "id": "e63736fc",
   "metadata": {},
   "outputs": [],
   "source": [
    "# Generate Recommendations for a Specific User\n",
    "def recommend_books_svdpp(user_id, top_n=10, diversity_factor=0.3):\n",
    "    \"\"\"\n",
    "    Generate book recommendations for a given user using SVD++ and incorporate diversity.\n",
    "\n",
    "    Parameters:\n",
    "    - user_id: ID of the user for which to generate recommendations.\n",
    "    - top_n: Total number of books to recommend.\n",
    "    - diversity_factor: Percentage of recommendations to replace with diverse suggestions.\n",
    "\n",
    "    Returns:\n",
    "    - A DataFrame containing the recommended books with details.\n",
    "    \"\"\"\n",
    "    # Predict ratings for all books for this user\n",
    "    all_books = data['Book-Title'].unique()\n",
    "    predictions = []\n",
    "    for book in all_books:\n",
    "        predictions.append((book, svdpp.predict(user_id, book).est))\n",
    "\n",
    "    # Sort by predicted rating to get top recommendations\n",
    "    sorted_predictions = sorted(predictions, key=lambda x: x[1], reverse=True)\n",
    "    top_recommendations = sorted_predictions[:top_n]\n",
    "\n",
    "    # Create a DataFrame for the top recommendations\n",
    "    recommendation_df = pd.DataFrame(top_recommendations, columns=['Book-Title', 'Predicted-Rating'])\n",
    "\n",
    "    # Introduce Diversity by getting less popular books for diversity\n",
    "    less_popular_books = data['Book-Title'].value_counts().tail(50).index\n",
    "    num_diverse_books = int(diversity_factor * top_n)\n",
    "    num_top_books = top_n - num_diverse_books\n",
    "\n",
    "    # Get less popular recommendations\n",
    "    diverse_recommendations = []\n",
    "    for book in less_popular_books:\n",
    "        diverse_recommendations.append((book, svdpp.predict(user_id, book).est))\n",
    "\n",
    "    diverse_recommendations = sorted(diverse_recommendations, key=lambda x: x[1], reverse=True)[:num_diverse_books]\n",
    "\n",
    "    # Combine top recommendations with diverse recommendations\n",
    "    final_recommendations = recommendation_df.head(num_top_books).append(pd.DataFrame(diverse_recommendations, columns=['Book-Title', 'Predicted-Rating']))\n",
    "    final_recommendations = final_recommendations.sample(frac=1).reset_index(drop=True)  # Shuffle the final list\n",
    "\n",
    "    # Ensure exactly `top_n` recommendations\n",
    "    final_recommendations = final_recommendations.head(top_n)\n",
    "\n",
    "    # Merge with book details for additional information\n",
    "    final_recommendations = final_recommendations.merge(books_data, on='Book-Title', how='left')\n",
    "\n",
    "    return final_recommendations[['Book-Title', 'Book-Author', 'Predicted-Rating']]\n",
    "\n",
    "# Example usage for a given user\n",
    "user_id = 141430  # Replace with an actual user ID from the dataset\n",
    "recommended_books_svdpp = recommend_books_svdpp(user_id, top_n=10, diversity_factor=0.3)\n",
    "\n",
    "# Display the recommendations\n",
    "print(recommended_books_svdpp)"
   ]
  }
 ],
 "metadata": {
  "kernelspec": {
   "display_name": "Python 3 (ipykernel)",
   "language": "python",
   "name": "python3"
  },
  "language_info": {
   "codemirror_mode": {
    "name": "ipython",
    "version": 3
   },
   "file_extension": ".py",
   "mimetype": "text/x-python",
   "name": "python",
   "nbconvert_exporter": "python",
   "pygments_lexer": "ipython3",
   "version": "3.11.5"
  }
 },
 "nbformat": 4,
 "nbformat_minor": 5
}
